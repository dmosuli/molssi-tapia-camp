{
 "cells": [
  {
   "cell_type": "markdown",
   "metadata": {},
   "source": [
    "# MolSSI Workshop - Python Data and Scripting\n",
    "\n"
   ]
  },
  {
   "cell_type": "code",
   "execution_count": 7,
   "metadata": {},
   "outputs": [
    {
     "name": "stdout",
     "output_type": "stream",
     "text": [
      "H1to O : 0.9690005374652793 \n",
      "H2to O : 0.9690003348647513 \n"
     ]
    }
   ],
   "source": [
    "import os\n",
    "import numpy\n",
    "file_location = os.path.join('water.xyz')\n",
    "xyz_file = numpy.genfromtxt(fname=file_location, dtype='unicode', skip_header=2)\n",
    "symbols = xyz_file[:,0]\n",
    "coordinates = xyz_file[:,1:]\n",
    "coordinates = coordinates.astype(numpy.float)\n",
    "num_atoms = len(symbols)\n",
    "for num1 in range(0,num_atoms):\n",
    "    for num2 in range(0,num_atoms):\n",
    "        if num1>num2:\n",
    "            x_distance = coordinates[num1,0]-coordinates[num2,0]\n",
    "            y_distance = coordinates[num1,1]-coordinates[num2,1]\n",
    "            z_distance = coordinates[num1,2]-coordinates[num2,2]\n",
    "            distance_12 = numpy.sqrt(x_distance**2 + y_distance**2 + z_distance**2)\n",
    "            if distance_12 < 1.5:\n",
    "\n",
    "                print(F'{symbols[num1]}to {symbols[num2]} : {distance_12:.3f} ')"
   ]
  },
  {
   "cell_type": "code",
   "execution_count": 9,
   "metadata": {},
   "outputs": [],
   "source": [
    "#functions\n",
    "\n",
    "#def function_name(parameters):\n",
    "   # ***code***\n",
    "   # return value_to_return\n"
   ]
  },
  {
   "cell_type": "code",
   "execution_count": 23,
   "metadata": {},
   "outputs": [],
   "source": [
    "def calculate_distance(coords1, coords2):\n",
    "                       \n",
    "    \"\"\"\n",
    "    this function accepts coordinates of 2 atoms and calculates the distance between atoms. \n",
    "    \n",
    "    \"\"\"\n",
    "    x_distance = coords1[0] - coords2[0]\n",
    "    y_distance = coords1[1] - coords2[1]\n",
    "    z_distance = coords1[2] - coords2[2]\n",
    "    distance_12 = numpy.sqrt(x_distance**2 + y_distance**2 + z_distance**2)\n",
    "    return distance_12\n"
   ]
  },
  {
   "cell_type": "code",
   "execution_count": 71,
   "metadata": {},
   "outputs": [],
   "source": [
    "def bond_check(distance, minimum=0 , maximum=1.5):\n",
    "    \n",
    "    \"\"\"\n",
    "    user specifies the max and min\n",
    "\n",
    "defaults are 0 and 1.5\n",
    "    \"\"\"\n",
    "    if distance>minimum and distance< maximum:\n",
    "        return True\n",
    "    else:\n",
    "        return False"
   ]
  },
  {
   "cell_type": "code",
   "execution_count": 4,
   "metadata": {},
   "outputs": [
    {
     "ename": "NameError",
     "evalue": "name 'calculate_distance' is not defined",
     "output_type": "error",
     "traceback": [
      "\u001b[0;31m---------------------------------------------------------------------------\u001b[0m",
      "\u001b[0;31mNameError\u001b[0m                                 Traceback (most recent call last)",
      "\u001b[0;32m<ipython-input-4-1acfeffbb46e>\u001b[0m in \u001b[0;36m<module>\u001b[0;34m\u001b[0m\n\u001b[1;32m     10\u001b[0m     \u001b[0;32mfor\u001b[0m \u001b[0mnum2\u001b[0m \u001b[0;32min\u001b[0m \u001b[0mrange\u001b[0m\u001b[0;34m(\u001b[0m\u001b[0;36m0\u001b[0m\u001b[0;34m,\u001b[0m\u001b[0mnum_atoms\u001b[0m\u001b[0;34m)\u001b[0m\u001b[0;34m:\u001b[0m\u001b[0;34m\u001b[0m\u001b[0;34m\u001b[0m\u001b[0m\n\u001b[1;32m     11\u001b[0m         \u001b[0;32mif\u001b[0m \u001b[0mnum1\u001b[0m\u001b[0;34m>\u001b[0m\u001b[0mnum2\u001b[0m\u001b[0;34m:\u001b[0m\u001b[0;34m\u001b[0m\u001b[0;34m\u001b[0m\u001b[0m\n\u001b[0;32m---> 12\u001b[0;31m             \u001b[0mdistance_12\u001b[0m \u001b[0;34m=\u001b[0m \u001b[0mcalculate_distance\u001b[0m\u001b[0;34m(\u001b[0m\u001b[0mcoordinates\u001b[0m\u001b[0;34m[\u001b[0m\u001b[0mnum1\u001b[0m\u001b[0;34m]\u001b[0m\u001b[0;34m,\u001b[0m \u001b[0mcoordinates\u001b[0m\u001b[0;34m[\u001b[0m\u001b[0mnum2\u001b[0m\u001b[0;34m]\u001b[0m\u001b[0;34m)\u001b[0m\u001b[0;34m\u001b[0m\u001b[0;34m\u001b[0m\u001b[0m\n\u001b[0m\u001b[1;32m     13\u001b[0m \u001b[0;34m\u001b[0m\u001b[0m\n\u001b[1;32m     14\u001b[0m             \u001b[0;32mif\u001b[0m \u001b[0mbond_check\u001b[0m\u001b[0;34m(\u001b[0m\u001b[0mdistance_12\u001b[0m\u001b[0;34m)\u001b[0m \u001b[0;32mis\u001b[0m \u001b[0;32mTrue\u001b[0m\u001b[0;34m:\u001b[0m\u001b[0;34m\u001b[0m\u001b[0;34m\u001b[0m\u001b[0m\n",
      "\u001b[0;31mNameError\u001b[0m: name 'calculate_distance' is not defined"
     ]
    }
   ],
   "source": [
    "import os\n",
    "import numpy\n",
    "file_location = os.path.join('water.xyz')\n",
    "xyz_file = numpy.genfromtxt(fname=file_location, dtype='unicode', skip_header=2)\n",
    "symbols = xyz_file[:,0]\n",
    "coordinates = xyz_file[:,1:]\n",
    "coordinates = coordinates.astype(numpy.float)\n",
    "num_atoms = len(symbols)\n",
    "for num1 in range(0,num_atoms):\n",
    "    for num2 in range(0,num_atoms):\n",
    "        if num1>num2:\n",
    "            distance_12 = calculate_distance(coordinates[num1], coordinates[num2])\n",
    "            \n",
    "            if bond_check(distance_12) is True:\n",
    "               \n",
    "                print(F'{symbols[num1]}to {symbols[num2]} : {distance_12:.3f} ')\n",
    "                "
   ]
  },
  {
   "cell_type": "code",
   "execution_count": 24,
   "metadata": {},
   "outputs": [
    {
     "name": "stdout",
     "output_type": "stream",
     "text": [
      "Help on function calculate_distance in module __main__:\n",
      "\n",
      "calculate_distance(coords1, coords2)\n",
      "    this function accepts coordinates of 2 atoms and calculates the distance between atoms.\n",
      "\n"
     ]
    }
   ],
   "source": [
    "help(calculate_distance)"
   ]
  },
  {
   "cell_type": "code",
   "execution_count": null,
   "metadata": {},
   "outputs": [],
   "source": []
  }
 ],
 "metadata": {
  "kernelspec": {
   "display_name": "Python 3",
   "language": "python",
   "name": "python3"
  },
  "language_info": {
   "codemirror_mode": {
    "name": "ipython",
    "version": 3
   },
   "file_extension": ".py",
   "mimetype": "text/x-python",
   "name": "python",
   "nbconvert_exporter": "python",
   "pygments_lexer": "ipython3",
   "version": "3.7.3"
  }
 },
 "nbformat": 4,
 "nbformat_minor": 2
}
